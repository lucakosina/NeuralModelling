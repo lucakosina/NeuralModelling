{
 "cells": [
  {
   "cell_type": "code",
   "execution_count": 1,
   "metadata": {},
   "outputs": [],
   "source": [
    "import numpy as np\n",
    "import matplotlib.pyplot as plt"
   ]
  },
  {
   "cell_type": "code",
   "execution_count": 2,
   "metadata": {},
   "outputs": [
    {
     "data": {
      "image/png": "[encoded data removed]",
      "text/plain": [
       "<Figure size 432x288 with 1 Axes>"
      ]
     },
     "metadata": {},
     "output_type": "display_data"
    }
   ],
   "source": [
    "# define maze\n",
    "maze = np.zeros((9, 13))\n",
    "\n",
    "# place walls\n",
    "maze[2, 6:10] = 1\n",
    "maze[-3, 6:10] = 1\n",
    "maze[2:-3, 6] = 1\n",
    "\n",
    "# define start\n",
    "start = [5, 7]\n",
    "\n",
    "def plot_maze(maze):\n",
    "    plt.imshow(maze, cmap='binary')\n",
    "\n",
    "    # draw thin grid\n",
    "    for i in range(maze.shape[0]):\n",
    "        plt.plot([-0.5, maze.shape[1]-0.5], [i-0.5, i-0.5], c='gray', lw=0.5)\n",
    "    for i in range(maze.shape[1]):\n",
    "        plt.plot([i-0.5, i-0.5], [-0.5, maze.shape[0]-0.5], c='gray', lw=0.5)\n",
    "\n",
    "    plt.xticks([])\n",
    "    plt.yticks([])\n",
    "\n",
    "plot_maze(maze)\n",
    "plt.scatter(start[1], start[0], marker='*', color='blue', s=100)\n",
    "plt.tight_layout()\n",
    "# plt.savefig('maze.png')\n",
    "plt.show()"
   ]
  },
  {
   "cell_type": "code",
   "execution_count": 7,
   "metadata": {},
   "outputs": [
    {
     "data": {
      "image/png": "[encoded data removed]",
      "text/plain": [
       "<Figure size 432x288 with 1 Axes>"
      ]
     },
     "metadata": {},
     "output_type": "display_data"
    }
   ],
   "source": [
    "####################################\n",
    "############## Part 1 ##############\n",
    "####################################\n",
    "\n",
    "\n",
    "def random_walk(maze, start, n_steps):\n",
    "    # perform a single random walk in the given maze, starting from start, performing n_steps random moves\n",
    "    # moves into the wall and out of the maze boundary are not possible\n",
    "\n",
    "    # initialize list to store positions\n",
    "    positions = [start]\n",
    "    \n",
    "    # define possible moves as dictionary \n",
    "    moves = {\n",
    "        'up': (0, -1),\n",
    "        'down': (0, 1),\n",
    "        'left': (-1, 0),\n",
    "        'right': (1, 0)\n",
    "    }\n",
    "    \n",
    "    # perform random steps\n",
    "    for _ in range(n_steps):\n",
    "        # get current position\n",
    "        current_position = positions[-1].copy()  # get current position\n",
    "        valid_move_found = False  # flag to track if a valid move is made\n",
    "        \n",
    "        # try random moves until a valid move is found\n",
    "        while not valid_move_found:\n",
    "            move = np.random.choice(['up', 'down', 'left', 'right'])\n",
    "            dx, dy = moves[move]\n",
    "            new_position = [current_position[0] + dx, current_position[1] + dy]\n",
    "            \n",
    "            # check if new_position is within maze boundaries and not a wall\n",
    "            if (0 <= new_position[0] < maze.shape[0] and  # x boundary check\n",
    "                0 <= new_position[1] < maze.shape[1] and  # y boundary check\n",
    "                maze[new_position[0], new_position[1]] == 0):  # check if not a wall\n",
    "                # if move is valid, append new_position to positions\n",
    "                positions.append(new_position)\n",
    "                valid_move_found = True  # set flag to exit loop after valid move\n",
    "\n",
    "    # return a list of length n_steps + 1, containing the starting position and all subsequent locations as e.g. tuples or size (2) arrays \n",
    "    return positions\n",
    "\n",
    "def plot_path(maze, path):\n",
    "    # plot a maze and a path in it\n",
    "    plot_maze(maze)\n",
    "    path = np.array(path)\n",
    "    plt.plot(path[:, 1], path[:, 0], c='red', lw=3)\n",
    "    plt.scatter(path[0, 1], path[0, 0], marker='*', color='blue', s=100)\n",
    "    plt.scatter(path[-1, 1], path[-1, 0], marker='*', color='green', s=100)\n",
    "    plt.show()\n",
    "\n",
    "# plot a random path\n",
    "path = random_walk(maze, start, 10)\n",
    "plot_path(maze, path)"
   ]
  },
  {
   "cell_type": "code",
   "execution_count": null,
   "metadata": {},
   "outputs": [],
   "source": [
    "####################################\n",
    "############## Part 2 ##############\n",
    "####################################\n",
    "\n",
    "\n",
    "def learn_from_traj(succ_repr, trajectory, gamma=0.98, alpha=0.02):\n",
    "    # Write a function to update a given successor representation (for the state at which the trajectory starts) using an example trajectory\n",
    "    # using discount factor gamma and learning rate alpha\n",
    "\n",
    "    TODO...\n",
    "\n",
    "    # return the updated successor representation\n",
    "    return succ_repr\n",
    "\n",
    "# initialize successor representation\n",
    "succ_repr = np.zeros_like(maze)\n",
    "\n",
    "# sample a whole bunch of trajectories (reduce this number if this code takes too long, but it shouldn't take longer than a minute with reasonable code)\n",
    "for i in range(5001):\n",
    "    # sample a path (we use 340 steps here to sample states until the discounting becomes very small)\n",
    "    path = random_walk(maze, start, 340)\n",
    "    # update the successor representation\n",
    "    succ_repr = learn_from_traj(succ_repr, path, alpha=0.02)  # choose a small learning rate\n",
    "\n",
    "    # occasionally plot it\n",
    "    if i in [0, 10, 100, 1000, 5000]:\n",
    "        plot_maze(maze)\n",
    "        plt.imshow(succ_repr, cmap='hot')\n",
    "        # if i == 5000:\n",
    "        #     plt.savefig(\"empirical\")\n",
    "        plt.show()"
   ]
  },
  {
   "cell_type": "code",
   "execution_count": null,
   "metadata": {},
   "outputs": [],
   "source": [
    "####################################\n",
    "############## Part 3 ##############\n",
    "####################################\n",
    "\n",
    "\n",
    "def compute_transition_matrix(maze):\n",
    "    # for a given maze, compute the transition matrix from any state to any other state under a random walk policy\n",
    "    # (you will need to think of a good way to map any 2D grid coordinates onto a single number for this)\n",
    "\n",
    "    # create a matrix over all state pairs\n",
    "    transitions = np.zeros(TODO...)\n",
    "\n",
    "    # iterate over all states, filling in the transition probabilities to all other states on the next step (only one step into the future)\n",
    "    TODO...\n",
    "    \n",
    "    # normalize transitions if neccessary\n",
    "    TODO...\n",
    "\n",
    "    # remove NaNs if necessary\n",
    "    TODO...\n",
    "\n",
    "    return transitions"
   ]
  },
  {
   "cell_type": "code",
   "execution_count": null,
   "metadata": {},
   "outputs": [],
   "source": [
    "####################################\n",
    "############## Part 4 ##############\n",
    "####################################\n",
    "\n",
    "\n",
    "def compute_sr(transitions, i, j, gamma=0.98):\n",
    "    # given a transition matrix and a specific state (i, j), compute the successor representation of that state with discount factor gamma\n",
    "\n",
    "    # initialize things (better to represent the current discounted occupancy as a vector here)\n",
    "    current_discounted_occupancy = np.zeros(TODO...)\n",
    "    total = current_discounted_occupancy.copy()\n",
    "    TODO...\n",
    "\n",
    "    # iterate for a number of steps\n",
    "    for _ in range(340):\n",
    "        TODO...\n",
    "\n",
    "    # return the successor representation, maybe reshape your vector into the maze shape now\n",
    "    return total.reshape(TODO...)\n",
    "\n",
    "transitions = compute_transition_matrix(maze)\n",
    "\n",
    "# compute state representation for start state\n",
    "i, j = start\n",
    "sr = compute_sr(transitions, i, j, 0.98)\n",
    "\n",
    "# plot state representation\n",
    "plot_maze(maze)\n",
    "plt.imshow(sr, cmap='hot')\n",
    "# plt.savefig(\"transition_iterate\")\n",
    "plt.show()"
   ]
  },
  {
   "cell_type": "code",
   "execution_count": null,
   "metadata": {},
   "outputs": [],
   "source": [
    "############################################\n",
    "############## Part 5 (Bonus) ##############\n",
    "############################################\n",
    "\n",
    "# You're on your own now"
   ]
  }
 ],
 "metadata": {
  "kernelspec": {
   "display_name": "Python 3",
   "language": "python",
   "name": "python3"
  },
  "language_info": {
   "codemirror_mode": {
    "name": "ipython",
    "version": 3
   },
   "file_extension": ".py",
   "mimetype": "text/x-python",
   "name": "python",
   "nbconvert_exporter": "python",
   "pygments_lexer": "ipython3",
   "version": "3.9.10"
  }
 },
 "nbformat": 4,
 "nbformat_minor": 2
}
