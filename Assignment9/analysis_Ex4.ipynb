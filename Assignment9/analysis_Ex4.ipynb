{
 "cells": [
  {
   "cell_type": "code",
   "execution_count": 2,
   "metadata": {},
   "outputs": [],
   "source": [
    "import pandas as pd \n",
    "import numpy as np\n",
    "import matplotlib.pyplot as plt\n",
    "import seaborn as sns"
   ]
  },
  {
   "cell_type": "code",
   "execution_count": 42,
   "metadata": {},
   "outputs": [
    {
     "name": "stderr",
     "output_type": "stream",
     "text": [
      "/var/folders/_w/fvv3yfg57mj4b3g4yftq72cr0000gn/T/ipykernel_1389/3867676392.py:11: SettingWithCopyWarning: \n",
      "A value is trying to be set on a copy of a slice from a DataFrame\n",
      "\n",
      "See the caveats in the documentation: https://pandas.pydata.org/pandas-docs/stable/user_guide/indexing.html#returning-a-view-versus-a-copy\n",
      "  df['trial_type'][i] = 'pre'\n",
      "/var/folders/_w/fvv3yfg57mj4b3g4yftq72cr0000gn/T/ipykernel_1389/3867676392.py:25: SettingWithCopyWarning: \n",
      "A value is trying to be set on a copy of a slice from a DataFrame\n",
      "\n",
      "See the caveats in the documentation: https://pandas.pydata.org/pandas-docs/stable/user_guide/indexing.html#returning-a-view-versus-a-copy\n",
      "  df['feedback_type'][0:50] = 'endpos1'\n",
      "/var/folders/_w/fvv3yfg57mj4b3g4yftq72cr0000gn/T/ipykernel_1389/3867676392.py:26: SettingWithCopyWarning: \n",
      "A value is trying to be set on a copy of a slice from a DataFrame\n",
      "\n",
      "See the caveats in the documentation: https://pandas.pydata.org/pandas-docs/stable/user_guide/indexing.html#returning-a-view-versus-a-copy\n",
      "  df['feedback_type'][50:100] = 'endpos2'\n",
      "/var/folders/_w/fvv3yfg57mj4b3g4yftq72cr0000gn/T/ipykernel_1389/3867676392.py:27: SettingWithCopyWarning: \n",
      "A value is trying to be set on a copy of a slice from a DataFrame\n",
      "\n",
      "See the caveats in the documentation: https://pandas.pydata.org/pandas-docs/stable/user_guide/indexing.html#returning-a-view-versus-a-copy\n",
      "  df['feedback_type'][100:150] = 'endpos3'\n",
      "/var/folders/_w/fvv3yfg57mj4b3g4yftq72cr0000gn/T/ipykernel_1389/3867676392.py:28: SettingWithCopyWarning: \n",
      "A value is trying to be set on a copy of a slice from a DataFrame\n",
      "\n",
      "See the caveats in the documentation: https://pandas.pydata.org/pandas-docs/stable/user_guide/indexing.html#returning-a-view-versus-a-copy\n",
      "  df['feedback_type'][150:200] = 'endpos4'\n"
     ]
    },
    {
     "data": {
      "text/html": [
       "<div>\n",
       "<style scoped>\n",
       "    .dataframe tbody tr th:only-of-type {\n",
       "        vertical-align: middle;\n",
       "    }\n",
       "\n",
       "    .dataframe tbody tr th {\n",
       "        vertical-align: top;\n",
       "    }\n",
       "\n",
       "    .dataframe thead th {\n",
       "        text-align: right;\n",
       "    }\n",
       "</style>\n",
       "<table border=\"1\" class=\"dataframe\">\n",
       "  <thead>\n",
       "    <tr style=\"text-align: right;\">\n",
       "      <th></th>\n",
       "      <th>x</th>\n",
       "      <th>y</th>\n",
       "      <th>block</th>\n",
       "      <th>trial_in_block</th>\n",
       "      <th>perturbation</th>\n",
       "      <th>score</th>\n",
       "      <th>feedback_type</th>\n",
       "      <th>distance_to_green_triangle</th>\n",
       "      <th>ref_point</th>\n",
       "      <th>trial_type</th>\n",
       "    </tr>\n",
       "  </thead>\n",
       "  <tbody>\n",
       "  </tbody>\n",
       "</table>\n",
       "</div>"
      ],
      "text/plain": [
       "Empty DataFrame\n",
       "Columns: [x, y, block, trial_in_block, perturbation, score, feedback_type, distance_to_green_triangle, ref_point, trial_type]\n",
       "Index: []"
      ]
     },
     "execution_count": 42,
     "metadata": {},
     "output_type": "execute_result"
    }
   ],
   "source": [
    "# Load the data\n",
    "df= pd.read_csv('/Users/sascha/Library/Mobile Documents/com~apple~CloudDocs/Uni_Tübingen/Semester1/NeuralModelling/Assignments/Assignment9/exercise4_trial_positions.csv')\n",
    "# replace NaN values with 'None'\n",
    "df['feedback_type'] = df['feedback_type'].fillna('None')\n",
    "# add col trial type\n",
    "df['trial_type'] = np.nan\n",
    "\n",
    "j = 0\n",
    "for i in range(len(df)):\n",
    "    if j < 10:\n",
    "        df['trial_type'][i] = 'pre'\n",
    "        j += 1\n",
    "    elif j < 40 and i >= 10:\n",
    "        df['trial_type'][i] = 'main'\n",
    "        j += 1\n",
    "    elif j >= 40:\n",
    "        df['trial_type'][i] = 'post'\n",
    "        if j == 50:\n",
    "            j = 0\n",
    "        else:\n",
    "            j += 1\n",
    "        \n",
    "df.head(50)\n",
    "\n",
    "df['feedback_type'][0:50] = 'endpos1'\n",
    "df['feedback_type'][50:100] = 'endpos2'\n",
    "df['feedback_type'][100:150] = 'endpos3'\n",
    "df['feedback_type'][150:200] = 'endpos4'\n",
    "df[df['feedback_type'] == 'endpos']"
   ]
  },
  {
   "cell_type": "code",
   "execution_count": 58,
   "metadata": {},
   "outputs": [
    {
     "name": "stdout",
     "output_type": "stream",
     "text": [
      "\n",
      "### Mean and Standard Deviation for each feedback type and perturbation type###\n",
      "\n",
      "   feedback_type trial_type        mean         std\n",
      "0        endpos1       main  388.254977  138.593676\n",
      "1        endpos1       post  238.822094  158.489837\n",
      "2        endpos1        pre  336.220873  166.717788\n",
      "3        endpos2       main  401.704076  251.877512\n",
      "4        endpos2       post  384.526351  145.125736\n",
      "5        endpos2        pre  391.954071  275.287007\n",
      "6        endpos3       main  652.834608  386.619785\n",
      "7        endpos3       post  604.700146  335.861867\n",
      "8        endpos3        pre  638.729766  519.762638\n",
      "9        endpos4       main  851.477815  563.963222\n",
      "10       endpos4       post  582.428847  407.120517\n",
      "11       endpos4        pre  778.126874  447.390395\n"
     ]
    },
    {
     "data": {
      "image/png": "[encoded data removed]",
      "text/plain": [
       "<Figure size 720x432 with 1 Axes>"
      ]
     },
     "metadata": {},
     "output_type": "display_data"
    }
   ],
   "source": [
    "# Calculate summary statistics\n",
    "summary_main = df.groupby(['feedback_type', 'trial_type'])['distance_to_green_triangle'].agg(['mean', 'std']).reset_index()\n",
    "print(\"\\n### Mean and Standard Deviation for each feedback type and perturbation type###\\n\")\n",
    "print(summary_main)\n",
    "\n",
    "# Set Seaborn theme\n",
    "sns.set_theme(style=\"whitegrid\")\n",
    "sns.set_context(\"talk\")\n",
    "\n",
    "# Create the plot\n",
    "plt.figure(figsize=(10, 6))\n",
    "sns.barplot(\n",
    "    data=summary_main, \n",
    "    x='trial_type', \n",
    "    y='mean'\n",
    ")\n",
    "\n",
    "# Labels\n",
    "plt.xlabel('Trial Type')\n",
    "plt.ylabel('Mean distance to green triangle')\n",
    "# legend outside figure\n",
    "#plt.legend(title='Feedback Type', bbox_to_anchor=(1.3, 1), loc='upper right', )\n",
    "\n",
    "# Show plot\n",
    "plt.show()"
   ]
  },
  {
   "cell_type": "code",
   "execution_count": null,
   "metadata": {},
   "outputs": [],
   "source": []
  }
 ],
 "metadata": {
  "kernelspec": {
   "display_name": "Python 3",
   "language": "python",
   "name": "python3"
  },
  "language_info": {
   "codemirror_mode": {
    "name": "ipython",
    "version": 3
   },
   "file_extension": ".py",
   "mimetype": "text/x-python",
   "name": "python",
   "nbconvert_exporter": "python",
   "pygments_lexer": "ipython3",
   "version": "3.9.10"
  }
 },
 "nbformat": 4,
 "nbformat_minor": 2
}
